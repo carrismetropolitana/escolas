{
 "cells": [
  {
   "cell_type": "code",
   "execution_count": 2,
   "metadata": {},
   "outputs": [],
   "source": [
    "escolas = {'Almada':['EB1 Almada', 'EB2 Almada', 'EB3 Almada', 'EB4 Almada', ],\n",
    "'Barreiro':['EB1 Barreiro', 'EB2 Barreiro', 'EB3 Barreiro', 'EB1 Barreiro', 'EB2 Barreiro', 'EB3 Barreiro', 'EB1 Barreiro', 'EB2 Barreiro', 'EB3 Barreiro', 'EB4 Barreiro', 'EB5 Barreiro', ],\n",
    "'Setubal':['EB1 Setubal', 'EB2 Setubal', 'EB3 Setubal', 'EB4 Setubal', 'EB5 Setubal', 'EB6 Setubal', ],\n",
    "'Mafra':['EB1 Mafra', 'EB2 Mafra', 'EB3 Mafra'],\n",
    "}"
   ]
  },
  {
   "cell_type": "code",
   "execution_count": 3,
   "metadata": {},
   "outputs": [],
   "source": [
    "lista = []\n",
    "descolas = {}\n",
    "for m in escolas:\n",
    "    for escola in escolas[m]:\n",
    "        descolas[escola] = {'nome':escola, 'morada': 'morada'}\n",
    "     "
   ]
  },
  {
   "cell_type": "code",
   "execution_count": 4,
   "metadata": {},
   "outputs": [
    {
     "data": {
      "text/plain": [
       "{'EB1 Almada': {'nome': 'EB1 Almada', 'morada': 'morada'},\n",
       " 'EB2 Almada': {'nome': 'EB2 Almada', 'morada': 'morada'},\n",
       " 'EB3 Almada': {'nome': 'EB3 Almada', 'morada': 'morada'},\n",
       " 'EB4 Almada': {'nome': 'EB4 Almada', 'morada': 'morada'},\n",
       " 'EB1 Barreiro': {'nome': 'EB1 Barreiro', 'morada': 'morada'},\n",
       " 'EB2 Barreiro': {'nome': 'EB2 Barreiro', 'morada': 'morada'},\n",
       " 'EB3 Barreiro': {'nome': 'EB3 Barreiro', 'morada': 'morada'},\n",
       " 'EB4 Barreiro': {'nome': 'EB4 Barreiro', 'morada': 'morada'},\n",
       " 'EB5 Barreiro': {'nome': 'EB5 Barreiro', 'morada': 'morada'},\n",
       " 'EB1 Setubal': {'nome': 'EB1 Setubal', 'morada': 'morada'},\n",
       " 'EB2 Setubal': {'nome': 'EB2 Setubal', 'morada': 'morada'},\n",
       " 'EB3 Setubal': {'nome': 'EB3 Setubal', 'morada': 'morada'},\n",
       " 'EB4 Setubal': {'nome': 'EB4 Setubal', 'morada': 'morada'},\n",
       " 'EB5 Setubal': {'nome': 'EB5 Setubal', 'morada': 'morada'},\n",
       " 'EB6 Setubal': {'nome': 'EB6 Setubal', 'morada': 'morada'},\n",
       " 'EB1 Mafra': {'nome': 'EB1 Mafra', 'morada': 'morada'},\n",
       " 'EB2 Mafra': {'nome': 'EB2 Mafra', 'morada': 'morada'},\n",
       " 'EB3 Mafra': {'nome': 'EB3 Mafra', 'morada': 'morada'}}"
      ]
     },
     "execution_count": 4,
     "metadata": {},
     "output_type": "execute_result"
    }
   ],
   "source": [
    "descolas"
   ]
  },
  {
   "cell_type": "code",
   "execution_count": null,
   "metadata": {},
   "outputs": [],
   "source": []
  }
 ],
 "metadata": {
  "kernelspec": {
   "display_name": "Python 3",
   "language": "python",
   "name": "python3"
  },
  "language_info": {
   "codemirror_mode": {
    "name": "ipython",
    "version": 3
   },
   "file_extension": ".py",
   "mimetype": "text/x-python",
   "name": "python",
   "nbconvert_exporter": "python",
   "pygments_lexer": "ipython3",
   "version": "3.11.4"
  },
  "orig_nbformat": 4
 },
 "nbformat": 4,
 "nbformat_minor": 2
}
